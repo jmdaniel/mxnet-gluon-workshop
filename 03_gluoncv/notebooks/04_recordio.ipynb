{
  "cells": [
    {
      "cell_type": "code",
      "execution_count": null,
      "metadata": {
        "collapsed": false
      },
      "outputs": [],
      "source": [
        "%matplotlib inline"
      ]
    },
    {
      "cell_type": "markdown",
      "metadata": {},
      "source": [
        "Prepare your dataset in ImageRecord format\n============================\n\nRaw images are natural data format for computer vision tasks.\nHowever, when loading data from image files for training, disk IO might be a bottleneck.\n\nFor instance, when training a ResNet50 model with ImageNet on an AWS p3.16xlarge instance,\nThe parallel training on 8 GPUs makes it so fast, with which even reading images from ramdisk can't catch up.\n\nTo boost the performance on top-configured platform, we suggest users to train with MXNet's ImageRecord format.\n\nPreparation\n-----------\n\nIt is as simple as a few lines of code to create ImageRecord file for your own images.\n\nAssuming we have a folder `./example`, in which images are places in different subfolders representing classes:\n\n.. code-block:: bash\n\n    ./example/class_A/1.jpg\n    ./example/class_A/2.jpg\n    ./example/class_A/3.jpg\n    ./example/class_B/4.jpg\n    ./example/class_B/5.jpg\n    ./example/class_B/6.jpg\n    ./example/class_C/100.jpg\n    ./example/class_C/1024.jpg\n    ./example/class_D/65535.jpg\n    ./example/class_D/0.jpg\n    ...\n\n\nFirst, we need to generate a `.lst` file, i.e. a list of these images containing label and filename information.\n\n.. code-block:: bash\n\n    python im2rec.py ./example_rec ./example/ --recursive --list --num-thread 8 \n\n\nAfter the execution, you may find a file `./example_rec.lst` generated. With this file, the next step is:\n\n.. code-block:: bash\n\n    python im2rec.py ./example_rec ./example/ --recursive --pass-through --pack-label --num-thread 8\n\n\nIt gives you two more files: `example_rec.idx` and `example_rec.rec`. Now, you can use them to train!\n\nFor validation set, we usually don't shuffle the order of images, thus the corresponding command would be\n\n.. code-block:: bash\n\n    python im2rec.py ./example_rec_val ./example_val --recursive --list --num-thread 8 \n    python im2rec.py ./example_rec_val ./example_val --recursive --pass-through --pack-label --no-shuffle --num-thread 8\n\n\nImageRecord file for ImageNet\n-----------------------------\n\nAs mentioned previously, ImageNet training can benefit from the improved IO speed with ImageRecord format.\n\nWe use the same script in our tutorial `\"Prepare the ImageNet dataset\" <imagenet.html>`_ , with different arguments.\nPlease read through it and download the imagenet files in advance.\n\nFirst, please download the helper script\n:download:`imagenet.py<../../../scripts/datasets/imagenet.py>`\nvalidation image info :download:`imagenet_val_maps.pklz<../../../scripts/datasets/imagenet_val_maps.pklz>`.\nMake sure to put them in the same directory.\n\nAssuming the tar files are saved in folder ``~/ILSVRC2012``. We can use the\nfollowing command to prepare the dataset automatically.\n\n.. code-block:: bash\n\n   python imagenet.py --download-dir ~/ILSVRC2012 --with-rec\n\n<div class=\"alert alert-info\"><h4>Note</h4><p>Extracting the images may take a while. For example, it takes\n   about 30min on an AWS EC2 instance with EBS.</p></div>\n\nBy default ``imagenet.py`` will extract the images into\n``~/.mxnet/datasets/imagenet``. You\ncan specify a different target folder by setting ``--target-dir``.\n\nRead with GluonCV\n-----------------\n\nThe prepared dataset can be loaded with utility class :py:class:`gluoncv.data.ImageNet`\ndirectly. Here is an example that randomly reads 128 images each time and\nperforms randomized resizing and cropping.\n\n"
      ]
    },
    {
      "cell_type": "code",
      "execution_count": null,
      "metadata": {
        "collapsed": false
      },
      "outputs": [],
      "source": [
        "import os\nfrom mxnet import nd\nfrom mxnet.io import ImageRecordIter\n\nrec_path = os.path.expanduser('~/.mxnet/datasets/imagenet/rec/')\n\n# You need to specify ``root`` for ImageNet if you extracted the images into\n# a different folder\ntrain_data = ImageRecordIter(\n    path_imgrec = os.path.join(rec_path, 'train.rec'),\n    path_imgidx = os.path.join(rec_path, 'train.idx'),\n    data_shape  = (3, 224, 224),\n    batch_size  = 32,\n    shuffle     = True\n)"
      ]
    },
    {
      "cell_type": "code",
      "execution_count": null,
      "metadata": {
        "collapsed": false
      },
      "outputs": [],
      "source": [
        "for batch in train_data:\n    print(batch.data[0].shape, batch.label[0].shape)\n    break"
      ]
    },
    {
      "cell_type": "markdown",
      "metadata": {},
      "source": [
        "Plot some validation images\n\n"
      ]
    },
    {
      "cell_type": "code",
      "execution_count": null,
      "metadata": {
        "collapsed": false
      },
      "outputs": [],
      "source": [
        "from gluoncv.utils import viz\nval_data = ImageRecordIter(\n    path_imgrec = os.path.join(rec_path, 'val.rec'),\n    path_imgidx = os.path.join(rec_path, 'val.idx'),\n    data_shape  = (3, 224, 224),\n    batch_size  = 32,\n    shuffle     = False\n)\nfor batch in val_data:\n    viz.plot_image(nd.transpose(batch.data[0][12], (1, 2, 0)))\n    viz.plot_image(nd.transpose(batch.data[0][21], (1, 2, 0)))\n    break"
      ]
    }
  ],
  "metadata": {
    "kernelspec": {
      "display_name": "Python 3",
      "language": "python",
      "name": "python3"
    },
    "language_info": {
      "codemirror_mode": {
        "name": "ipython",
        "version": 3
      },
      "file_extension": ".py",
      "mimetype": "text/x-python",
      "name": "python",
      "nbconvert_exporter": "python",
      "pygments_lexer": "ipython3",
      "version": "3.7.0"
    }
  },
  "nbformat": 4,
  "nbformat_minor": 0
}