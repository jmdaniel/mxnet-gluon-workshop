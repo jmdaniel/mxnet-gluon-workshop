{
  "cells": [
    {
      "cell_type": "code",
      "execution_count": null,
      "metadata": {
        "collapsed": false
      },
      "outputs": [],
      "source": [
        "%matplotlib inline"
      ]
    },
    {
      "cell_type": "markdown",
      "metadata": {},
      "source": [
        "1. Getting Started with Pre-trained Model on CIFAR10\n=======================================================\n\n`CIFAR10 <https://www.cs.toronto.edu/~kriz/cifar.html>`__ is a\ndataset of tiny (32x32) images with labels, collected by Alex Krizhevsky,\nVinod Nair, and Geoffrey Hinton. It is widely used as benchmark in\ncomputer vision research.\n\n|image-cifar10|\n\n.. |image-cifar10| image:: https://raw.githubusercontent.com/dmlc/web-data/master/gluoncv/datasets/cifar10.png\n\nIn this tutorial, we will demonstrate how to load a pre-trained model from `gluoncv-model-zoo`\nand classify images from the Internet or your local disk.\n\nStep by Step\n------------------\n\nLet's first try out a pre-trained cifar model with a few lines of python code.\n\nFirst, please follow the `installation guide <../../index.html#installation>`__\nto install ``MXNet`` and ``GluonCV`` if you haven't done so yet.\n\n"
      ]
    },
    {
      "cell_type": "code",
      "execution_count": null,
      "metadata": {
        "collapsed": false
      },
      "outputs": [],
      "source": [
        "import matplotlib.pyplot as plt\n\nfrom mxnet import gluon, nd, image\nfrom mxnet.gluon.data.vision import transforms\nfrom gluoncv import utils\nfrom gluoncv.model_zoo import get_model"
      ]
    },
    {
      "cell_type": "markdown",
      "metadata": {},
      "source": [
        "Then, we download and show the example image:\n\n"
      ]
    },
    {
      "cell_type": "code",
      "execution_count": null,
      "metadata": {
        "collapsed": false
      },
      "outputs": [],
      "source": [
        "url = 'https://raw.githubusercontent.com/dmlc/web-data/master/gluoncv/classification/plane-draw.jpeg'\nim_fname = utils.download(url)\n\nimg = image.imread(im_fname)\n\nplt.imshow(img.asnumpy())\nplt.show()"
      ]
    },
    {
      "cell_type": "markdown",
      "metadata": {},
      "source": [
        "In case you don't recognize it, the image is a poorly-drawn airplane :)\n\nNow we define transformations for the image.\n\n"
      ]
    },
    {
      "cell_type": "code",
      "execution_count": null,
      "metadata": {
        "collapsed": false
      },
      "outputs": [],
      "source": [
        "transform_fn = transforms.Compose([\n    transforms.Resize(32),\n    transforms.CenterCrop(32),\n    transforms.ToTensor(),\n    transforms.Normalize([0.4914, 0.4822, 0.4465], [0.2023, 0.1994, 0.2010])\n])"
      ]
    },
    {
      "cell_type": "markdown",
      "metadata": {},
      "source": [
        "This transformation function does three things:\nresize and crop the image to 32x32 in size,\ntranspose it to `num_channels*height*width`,\nand normalize with mean and standard deviation calculated across all CIFAR10 images.\n\nWhat does the transformed image look like?\n\n"
      ]
    },
    {
      "cell_type": "code",
      "execution_count": null,
      "metadata": {
        "collapsed": false
      },
      "outputs": [],
      "source": [
        "img = transform_fn(img)\nplt.imshow(nd.transpose(img, (1,2,0)).asnumpy())\nplt.show()"
      ]
    },
    {
      "cell_type": "markdown",
      "metadata": {},
      "source": [
        "Can't recognize anything? *Don't panic!* Neither do I.\nThe transformation makes it more \"model-friendly\", instead of \"human-friendly\".\n\nNext, we load a pre-trained model.\n\n"
      ]
    },
    {
      "cell_type": "code",
      "execution_count": null,
      "metadata": {
        "collapsed": false
      },
      "outputs": [],
      "source": [
        "net = get_model('cifar_resnet110_v1', classes=10, pretrained=True)"
      ]
    },
    {
      "cell_type": "markdown",
      "metadata": {},
      "source": [
        "Finally, we prepare the image and feed it to the model\n\n"
      ]
    },
    {
      "cell_type": "code",
      "execution_count": null,
      "metadata": {
        "collapsed": false
      },
      "outputs": [],
      "source": [
        "pred = net(img.expand_dims(axis=0))\n\nclass_names = ['airplane', 'automobile', 'bird', 'cat', 'deer',\n               'dog', 'frog', 'horse', 'ship', 'truck']\nind = nd.argmax(pred, axis=1).astype('int')\nprint('The input picture is classified as [%s], with probability %.3f.'%\n      (class_names[ind.asscalar()], nd.softmax(pred)[0][ind].asscalar()))"
      ]
    },
    {
      "cell_type": "markdown",
      "metadata": {},
      "source": [
        "Play with the scripts\n---------------------\n\nHere is a script that does all the previous steps in one go.\n\n:download:`Download demo_cifar10.py<../../../scripts/classification/cifar/demo_cifar10.py>`\n\nFeed in your own image to see how well it does the job.\nKeep in mind that ``CIFAR10`` is a small dataset with only 10\nclasses. Models trained on ``CIFAR10`` only recognize objects from those\n10 classes. Thus, it may surprise you if we feed one image to the model\nwhich doesn't belong to any of the 10 classes\n\nFor instance we can test it with the following photo of Mt. Baker:\n\n|image-mtbaker|\n\n::\n\n    python demo_cifar10.py --model cifar_resnet110_v1 --input-pic mt_baker.jpg\n\nThe result is:\n\n::\n\n    The input picture is classified to be [ship], with probability 0.949.\n\nNext Step\n---------\n\nCongratulations! You\u2019ve just finished reading the first tutorial.\nThere are a lot more to help you learn GluonCV.\n\nIf you would like to dive deeper into training on ``CIFAR10``,\nfeel free to read the next `tutorial on CIFAR10 <dive_deep_cifar10.html>`__.\n\nOr, if you would like to try a larger scale dataset with 1000 classes of common objects\nplease read `Getting Started with ImageNet Pre-trained Models <demo_imagenet.html>`__.\n\n.. |image-mtbaker| image:: https://raw.githubusercontent.com/dmlc/web-data/master/gluoncv/classification/mt_baker.jpg\n\n"
      ]
    }
  ],
  "metadata": {
    "kernelspec": {
      "display_name": "Python 3",
      "language": "python",
      "name": "python3"
    },
    "language_info": {
      "codemirror_mode": {
        "name": "ipython",
        "version": 3
      },
      "file_extension": ".py",
      "mimetype": "text/x-python",
      "name": "python",
      "nbconvert_exporter": "python",
      "pygments_lexer": "ipython3",
      "version": "3.7.0"
    }
  },
  "nbformat": 4,
  "nbformat_minor": 0
}