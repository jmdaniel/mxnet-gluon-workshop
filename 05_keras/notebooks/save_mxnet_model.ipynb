{
 "cells": [
  {
   "cell_type": "markdown",
   "metadata": {
    "slideshow": {
     "slide_type": "slide"
    }
   },
   "source": [
    "# Save MXNet model from Keras-MXNet\n"
   ]
  },
  {
   "cell_type": "markdown",
   "metadata": {
    "slideshow": {
     "slide_type": "slide"
    }
   },
   "source": [
    "## Objective\n",
    "\n",
    "In this tutorial, we show how to train a model in Keras-MXNet, export the trained model as Apache MXNet model, and use MXNet natively for inference.\n",
    "\n",
    "You can use one of the below APIs to export the native MXNet model from Keras-MXNet:\n",
    "1. Using `keras.models.save_mxnet_model()` API.\n",
    "2. Using `keras.callbacks.MXNetModelCheckpoint` callback.\n",
    "\n",
    "With Keras-MXNet, you get an out-of-the-box API to \n",
    "- You can use `keras.models.save_mxnet_model()` API to save the models trained on the CPU, a single GPU or multiple GPUs or, \n",
    "- you can use `keras.callbacks.MXNetModelCheckpoint` callback to checkpoint the model.\n",
    "\n",
    "`Warning` Not all Keras operators and functionalities are supported with MXNet backend. For more information, view the the list\n",
    " of known issues and unsupported functionalities [here](https://github.com/awslabs/keras-apache-mxnet/issues/18).\n"
   ]
  },
  {
   "cell_type": "markdown",
   "metadata": {
    "slideshow": {
     "slide_type": "slide"
    }
   },
   "source": [
    "## Export MXNet model using save_mxnet_model() API\n",
    "\n",
    "This API accepts the following arguments:\n",
    "* model: Keras model instance to be saved as MXNet model.\n",
    "* prefix: Prefix name of the saved Model (symbol and params) files. Model will be saved as 'prefix-symbol.json' and 'prefix-epoch.params'.\n",
    "* epoch: (Optional) Tag the params file with epoch of the model being saved. Default is 0. Model params file is saved as 'prefix-epoch.params' or 'prefix-0000.params' by default.\n",
    "\n",
    "\n",
    "To summarize, all you have to do is to call the `keras.models.save_mxnet_model()` API by passing the trained Keras \n",
    "model to be exported in MXNet model format."
   ]
  },
  {
   "cell_type": "code",
   "execution_count": null,
   "metadata": {
    "slideshow": {
     "slide_type": "subslide"
    }
   },
   "outputs": [],
   "source": [
    "# ... Assuming you have built and trained a Model\n",
    "model.fit(x_train, y_train,\n",
    "          batch_size=batch_size,\n",
    "          epochs=epochs,\n",
    "          verbose=1,\n",
    "          validation_data=(x_test, y_test))\n",
    "          \n",
    "# Save the trained Keras Model as MXNet Model\n",
    "keras.models.save_mxnet_model(model=model, prefix='my_model')\n",
    "\n",
    "# You get the MXNet model - (my_model-symbol.json, my_model-0000.params) in your current directory.\n",
    "# Symbol and Params are two files representing a native MXNet model.\n"
   ]
  },
  {
   "cell_type": "markdown",
   "metadata": {
    "slideshow": {
     "slide_type": "slide"
    }
   },
   "source": [
    "## Checkpoint MXNet model using MXNetModelCheckpoint callback\n",
    "\n",
    "Using `MXNetModelCheckpoint` is similar to using Keras `ModelCheckpoint` callback. Please see here - https://keras.io/callbacks/#modelcheckpoint for callback parameters.\n",
    "MXNetModelCheckpoint has following differences compared to ModelCheckpoint:\n",
    "1. Accepts one additional parameter - `prefix` - name of the saved Model (symbol and params) files. Model will be saved as 'prefix-symbol.json' and 'prefix-epoch.params'.\n",
    "2. Model checkpoint are always saved in the current working directory i.e., MXNetModelCheckpoint do not accept `filepath`. (This will be supported soon - [#131](https://github.com/awslabs/keras-apache-mxnet/issues/131))\n",
    "\n",
    "You can use MXNetModelCheckpoint to checkpoint(save) the model as native MXNet model based on your checkpoint criteria - saving the best model, saving model after each epoch etc.\n",
    "\n",
    "To obtain MXNet Model details for later binding to MXNet Module, you can use `K.get_mxnet_model_info()` API that returns `data_names` and `data_shapes` that you can use to bind the model with MXNet module."
   ]
  },
  {
   "cell_type": "code",
   "execution_count": null,
   "metadata": {
    "slideshow": {
     "slide_type": "subslide"
    }
   },
   "outputs": [],
   "source": [
    "# ... Assuming you have built the model.\n",
    "\n",
    "# Use MXNetModelCheckpoint callback to save best model during the training.\n",
    "checkpoint = MXNetModelCheckpoint(mxnet_model_prefix=\"my_model\", monitor = 'val_loss', verbose = 1, save_best_only = True, mode = 'min')\n",
    "callbacks_list = [checkpoint]\n",
    "model.compile(loss=keras.losses.categorical_crossentropy,\n",
    "              optimizer=keras.optimizers.Adadelta(),\n",
    "              metrics=['accuracy'], callbacks=callbacks_list)\n",
    "\n",
    "# You get the best MXNet model - (my_model-symbol.json, my_model-0000.params) in your current directory.\n",
    "# Symbol and Params are two files representing a native MXNet model."
   ]
  },
  {
   "cell_type": "markdown",
   "metadata": {
    "slideshow": {
     "slide_type": "skip"
    }
   },
   "source": [
    "NOTE: If you do not set `save_best_only = True` i.e., you want to save model after each epoch, there will be one symbol file - my_model-symbol.json and one params file for each epoch. Example: my_model-0001.params, my_model-0002.params\n",
    "\n",
    "## Train and save a Convolutional Neural Network (CNN) model for MNIST dataset\n",
    "\n",
    "We provide the following example for building a simple CNN model in Keras for [MNIST](http://yann.lecun.com/exdb/mnist/) handwritten digit recognition dataset. As you follow the example, you will save the model in the \n",
    "MXNet model format. You will use the `keras.models.save_mxnet_model()` API."
   ]
  },
  {
   "cell_type": "code",
   "execution_count": null,
   "metadata": {
    "slideshow": {
     "slide_type": "skip"
    }
   },
   "outputs": [],
   "source": [
    "# Reference - https://github.com/awslabs/keras-apache-mxnet/blob/master/examples/mnist_cnn.py\n",
    "\n",
    "# Step 1: Train a CNN model for MNIST dataset.\n",
    "\n",
    "from __future__ import print_function\n",
    "import keras\n",
    "from keras.datasets import mnist\n",
    "from keras.models import Sequential\n",
    "from keras.layers import Dense, Dropout, Flatten\n",
    "from keras.layers import Conv2D, MaxPooling2D\n",
    "from keras import backend as K\n",
    "\n",
    "# Import the save_mxnet_model API\n",
    "from keras.models import save_mxnet_model\n",
    "\n",
    "batch_size = 128\n",
    "num_classes = 10\n",
    "epochs = 5\n",
    "\n",
    "# input image dimensions\n",
    "img_rows, img_cols = 28, 28\n",
    "\n",
    "# the data, split between train and test sets\n",
    "(x_train, y_train), (x_test, y_test) = mnist.load_data()\n",
    "\n",
    "if K.image_data_format() == 'channels_first':\n",
    "    x_train = x_train.reshape(x_train.shape[0], 1, img_rows, img_cols)\n",
    "    x_test = x_test.reshape(x_test.shape[0], 1, img_rows, img_cols)\n",
    "    input_shape = (1, img_rows, img_cols)\n",
    "else:\n",
    "    x_train = x_train.reshape(x_train.shape[0], img_rows, img_cols, 1)\n",
    "    x_test = x_test.reshape(x_test.shape[0], img_rows, img_cols, 1)\n",
    "    input_shape = (img_rows, img_cols, 1)\n",
    "\n",
    "x_train = x_train.astype('float32')\n",
    "x_test = x_test.astype('float32')\n",
    "x_train /= 255\n",
    "x_test /= 255\n",
    "print('x_train shape:', x_train.shape)\n",
    "print(x_train.shape[0], 'train samples')\n",
    "print(x_test.shape[0], 'test samples')\n",
    "\n",
    "# convert class vectors to binary class matrices\n",
    "y_train = keras.utils.to_categorical(y_train, num_classes)\n",
    "y_test = keras.utils.to_categorical(y_test, num_classes)\n",
    "\n",
    "model = Sequential()\n",
    "model.add(Conv2D(32, kernel_size=(3, 3),\n",
    "                 activation='relu',\n",
    "                 input_shape=input_shape))\n",
    "model.add(Conv2D(64, (3, 3), activation='relu'))\n",
    "model.add(MaxPooling2D(pool_size=(2, 2)))\n",
    "model.add(Dropout(0.25))\n",
    "model.add(Flatten())\n",
    "model.add(Dense(128, activation='relu'))\n",
    "model.add(Dropout(0.5))\n",
    "model.add(Dense(num_classes, activation='softmax'))\n",
    "\n",
    "''''\n",
    "# You can also use MXNetModelCheckpoint callback.\n",
    "\n",
    "checkpoint = MXNetModelCheckpoint(mxnet_model_prefix=\"my_model\", monitor = 'val_loss', verbose = 1, save_best_only = True, mode = 'min')\n",
    "callbacks_list = [checkpoint]\n",
    "model.compile(loss=keras.losses.categorical_crossentropy,\n",
    "              optimizer=keras.optimizers.Adadelta(),\n",
    "              metrics=['accuracy'], callbacks=callbacks_list)\n",
    "'''              \n",
    "model.compile(loss=keras.losses.categorical_crossentropy,\n",
    "              optimizer=keras.optimizers.Adadelta(),\n",
    "              metrics=['accuracy'])\n",
    "\n",
    "model.fit(x_train, y_train,\n",
    "          batch_size=batch_size,\n",
    "          epochs=epochs,\n",
    "          verbose=1,\n",
    "          validation_data=(x_test, y_test))\n",
    "score = model.evaluate(x_test, y_test, verbose=0)\n",
    "print('Test loss:', score[0])\n",
    "print('Test accuracy:', score[1])\n",
    "\n",
    "\n",
    "'''\n",
    "# If you have used MXNetModelCheckpoint callback, you can need a way to get data_names, data_shapes\n",
    "data_names, data_shapes = K.get_mxnet_model_info(model)\n",
    "'''\n",
    "\n",
    "# Step 2: Save the model in MXNet model format.\n",
    "# data_names and data_shapes are values of the parameters to be used when loading the Model in MXNet.\n",
    "data_names, data_shapes = save_mxnet_model(model=model, prefix='mnist_cnn', epoch=0)\n",
    "``` \n",
    "\n",
    "After running this script, you will now have two files for an MXNet model in the current directory.\n",
    "* mnist_cnn-symbol.json\n",
    "* mnist_cnn-0000.params\n",
    "\n",
    "In the next section, we show how to load this model in the native MXNet engine and perform inference.\n",
    "\n",
    "## Import the model in MXNet for Inference\n",
    "\n",
    "The `keras.model.save_mxnet_model()` API will return the `data_names` and `data_shapes` to be used for binding the model with MXNet engine. \n",
    "\n",
    "```python\n",
    "import numpy as np\n",
    "import mxnet as mx\n",
    "\n",
    "# Step1: Load the model in MXNet\n",
    "\n",
    "# Use the same prefix and epoch parameters we used in save_mxnet_model API.\n",
    "sym, arg_params, aux_params = mx.model.load_checkpoint(prefix='mnist_cnn', epoch=0)\n",
    "\n",
    "# We use the data_names and data_shapes returned by save_mxnet_model API.\n",
    "mod = mx.mod.Module(symbol=sym, \n",
    "                    data_names=['/conv2d_1_input1'], \n",
    "                    context=mx.cpu(), \n",
    "                    label_names=None)\n",
    "mod.bind(for_training=False, \n",
    "         data_shapes=[('/conv2d_1_input1', (1,1,28,28))], \n",
    "         label_shapes=mod._label_shapes)\n",
    "mod.set_params(arg_params, aux_params, allow_missing=True)\n",
    "\n",
    "# Step2: Perform inference\n",
    "\n",
    "# Now, the model is loaded in MXNet and ready for Inference!\n",
    "# We load MNIST dataset and demonstrate inference.\n",
    "mnist = mx.test_utils.get_mnist()\n",
    "labels = mnist['test_label']\n",
    "test_data = mnist['test_data']\n",
    "data_iter = mx.io.NDArrayIter(test_data, None, 1)\n",
    "result = mod.predict(data_iter)\n",
    "\n",
    "# Check what is the predicted value and actual value\n",
    "# We have predicted 10000 samples in test_data. Use different indexes to see different sample results.\n",
    "idx = 1020\n",
    "print(\"Predicted - \", np.argmax(result[idx].asnumpy()))\n",
    "print(\"Actual - \", labels[idx])"
   ]
  },
  {
   "cell_type": "markdown",
   "metadata": {
    "slideshow": {
     "slide_type": "skip"
    }
   },
   "source": [
    "That's it! We trained a CNN model with Keras interface and used MXNet native engine in Python for inference. Also \n",
    "note that we can use any language binding supported by MXNet (Scala/Python/Julia/C++/R/Perl) for inference based on your \n",
    "production environment setup and requirements.\n",
    "\n",
    "## References\n",
    "1. [MXNet Module](https://mxnet.incubator.apache.org/api/python/module/module.html)\n",
    "2. [MXNet Predicting with Pre-Trained Model](https://mxnet.incubator.apache.org/tutorials/python/predict_image.html)\n",
    "3. [Keras MNIST CNN code](https://github.com/awslabs/keras-apache-mxnet/blob/master/examples/mnist_cnn.py)"
   ]
  }
 ],
 "metadata": {
  "celltoolbar": "Slideshow",
  "kernelspec": {
   "display_name": "Python 3",
   "language": "python",
   "name": "python3"
  },
  "language_info": {
   "codemirror_mode": {
    "name": "ipython",
    "version": 3
   },
   "file_extension": ".py",
   "mimetype": "text/x-python",
   "name": "python",
   "nbconvert_exporter": "python",
   "pygments_lexer": "ipython3",
   "version": "3.6.4"
  }
 },
 "nbformat": 4,
 "nbformat_minor": 2
}
